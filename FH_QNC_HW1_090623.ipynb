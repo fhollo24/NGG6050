{
 "cells": [
  {
   "cell_type": "markdown",
   "id": "dc397491",
   "metadata": {},
   "source": [
    "Exercise 1: If someone gets a positive test, is it \"statistically significant\" at the p<0.05 level? Why or why not?\n",
    "\n",
    "It depends if we are taking the frequentist vs bayesian approach. I think in the frequentist POV then yes it can be stat significant. With the data set having 1000 HIV tests where some results can be postive, negative or unknown and the hypothesis being that the test can be negative or positive regardless of the person's infection status. A null hypothesis is the probability of false negatives in addition to the probability of false postivies will equal to 0.05. So, with the p-value equal to 0.05 rather than \"<\" indicating significance, the null hypothesis can be rejected and accept a positive test can be statistically significant indicator of HIV+ status."
   ]
  },
  {
   "cell_type": "markdown",
   "id": "5208dfb3",
   "metadata": {},
   "source": [
    "Exercise 2: this code was generated with the help of ChatGPT"
   ]
  },
  {
   "cell_type": "code",
   "execution_count": 1,
   "id": "a6241f19",
   "metadata": {},
   "outputs": [
    {
     "name": "stdout",
     "output_type": "stream",
     "text": [
      "HIV Prevalence: 0.00, Probability Infected Given Positive: 0.00%\n",
      "HIV Prevalence: 0.10, Probability Infected Given Positive: 73.29%\n",
      "HIV Prevalence: 0.20, Probability Infected Given Positive: 82.70%\n",
      "HIV Prevalence: 0.30, Probability Infected Given Positive: 86.35%\n",
      "HIV Prevalence: 0.40, Probability Infected Given Positive: 93.30%\n",
      "HIV Prevalence: 0.50, Probability Infected Given Positive: 94.25%\n",
      "HIV Prevalence: 0.60, Probability Infected Given Positive: 97.80%\n",
      "HIV Prevalence: 0.70, Probability Infected Given Positive: 97.42%\n",
      "HIV Prevalence: 0.80, Probability Infected Given Positive: 98.71%\n",
      "HIV Prevalence: 0.90, Probability Infected Given Positive: 99.31%\n",
      "HIV Prevalence: 1.00, Probability Infected Given Positive: 100.00%\n"
     ]
    }
   ],
   "source": [
    "import random\n",
    "\n",
    "\n",
    "# Initialize a list to store the results\n",
    "results = []\n",
    "\n",
    "# Loop through different prevalence values from 0 to 1 with steps of 0.1\n",
    "for prevalence in [i * 0.1 for i in range(11)]:\n",
    "    # Define the parameters\n",
    "    true_positive_rate = 0.95  # Probability of a true positive\n",
    "    false_positive_rate = 0.05  # Probability of a false positive\n",
    "    \n",
    "    # Initialize counters\n",
    "    positive_tests = 0\n",
    "    infected_and_positive = 0\n",
    "\n",
    "    # Simulate 1000 tests\n",
    "    num_tests = 1000\n",
    "    for _ in range(num_tests):\n",
    "        # Simulate the true infection status\n",
    "        is_infected = random.random() < prevalence\n",
    "    \n",
    "        # Simulate the test result\n",
    "        if is_infected:\n",
    "            # A true positive result\n",
    "            if random.random() < true_positive_rate:\n",
    "                positive_tests += 1\n",
    "                infected_and_positive += 1\n",
    "            else:\n",
    "                # False negative result\n",
    "                pass\n",
    "        else:\n",
    "            # A false positive result\n",
    "            if random.random() < false_positive_rate:\n",
    "                positive_tests += 1\n",
    "\n",
    "    # Calculate the probability using Bayes' theorem\n",
    "    probability_infected_given_positive = infected_and_positive / positive_tests\n",
    "    \n",
    "    #store the results in the list\n",
    "    results.append((prevalence, probability_infected_given_positive))\n",
    "\n",
    "# Print the result\n",
    "for prevalence, probability in results:\n",
    "    print(f\"HIV Prevalence: {prevalence:.2f}, Probability Infected Given Positive: {probability:.2%}\")"
   ]
  },
  {
   "cell_type": "code",
   "execution_count": null,
   "id": "206654f5",
   "metadata": {},
   "outputs": [],
   "source": []
  }
 ],
 "metadata": {
  "kernelspec": {
   "display_name": "Python 3 (ipykernel)",
   "language": "python",
   "name": "python3"
  },
  "language_info": {
   "codemirror_mode": {
    "name": "ipython",
    "version": 3
   },
   "file_extension": ".py",
   "mimetype": "text/x-python",
   "name": "python",
   "nbconvert_exporter": "python",
   "pygments_lexer": "ipython3",
   "version": "3.10.9"
  }
 },
 "nbformat": 4,
 "nbformat_minor": 5
}
