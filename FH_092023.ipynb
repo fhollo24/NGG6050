{
 "cells": [
  {
   "cell_type": "markdown",
   "id": "05c860db",
   "metadata": {},
   "source": [
    "You are a behavioral geologist measuring the reaction time of rocks in response to a tone. Specifically, you want to compare the median reaction time of geodes, to that of limestone. You recruit 20 rocks per group, and run your reaction-time experiment. What test would you use to compare median reaction times between geodes and limestone, and why?\n",
    "\n",
    "Mann-Whitney: unpaired, two sample\n",
    "This test allows to compare two independent groups. It doesnt assum that the data will follow a normal distribution, we can rant the reaction times without assuming the intervals between values are equal and it allows to compare the medians of two groups which is what we want. "
   ]
  },
  {
   "cell_type": "markdown",
   "id": "ba6c4ecd",
   "metadata": {},
   "source": [
    "You are a brilliant scientist working at a biotech firm developing a vaccine that reverses aging. \n",
    "Wow! To test the efficacy of the vaccine, you recruit 50 people, give them a course of your vaccine, and measure their age with a (very) special scale before and after treatment. You want to start by refuting the simple that that the participants' measured ages are not changed by the treatment. What test do you use and why?\n",
    "\n",
    "Wilcoxon signed-rank test: one sample or paired samples, symmetric distribution\n",
    "This test would be helpful becasue we are measuring the ages of the same individuals before and after the vaccine. So, we would compare the means of this data. There is also continous data because of age as the continuos variable and this test allows to account for that. In this case, we would assume that there is normal distribution due to the age variable. We want to test differences of before and after vaccine and this test allows that. "
   ]
  },
  {
   "cell_type": "markdown",
   "id": "cd2bf2c4",
   "metadata": {},
   "source": [
    "You are a neuroeconomist and believe you have developed a wearable device that can change consumer preferences about a given product. To test your device, you present product X to a group of 40 individuals, and ask them to fill out a survery assessing how much they like the product (larger score means they like it more). Then, you have the individuals wear the device, present product X, and assess how much they like of the product. You want to know if the device reliably increases, decreases, or does not affect their liking of product X. What test would you use and why? What result would indicate that their liking has increased?\n",
    "\n",
    "Wilcoxon signed-rank test: paired samples\n",
    "this test allows to compare the means of two groups that are related. Here the same groups are of the individuals before and after using the device. \n",
    "We would compare the likeness of the device before and after wearing the device. If the like score for the device is larger than the score before the device (shown by a lower/signficant p-value from the test) it would suggest that the device has an effect in increasing the liking of the product. "
   ]
  },
  {
   "cell_type": "code",
   "execution_count": null,
   "id": "ac229daf",
   "metadata": {},
   "outputs": [],
   "source": [
    "\n",
    "\n"
   ]
  }
 ],
 "metadata": {
  "kernelspec": {
   "display_name": "Python 3 (ipykernel)",
   "language": "python",
   "name": "python3"
  },
  "language_info": {
   "codemirror_mode": {
    "name": "ipython",
    "version": 3
   },
   "file_extension": ".py",
   "mimetype": "text/x-python",
   "name": "python",
   "nbconvert_exporter": "python",
   "pygments_lexer": "ipython3",
   "version": "3.10.9"
  }
 },
 "nbformat": 4,
 "nbformat_minor": 5
}
