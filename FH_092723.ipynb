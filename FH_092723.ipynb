{
 "cells": [
  {
   "cell_type": "markdown",
   "id": "7e21e9ae",
   "metadata": {},
   "source": [
    "Assume Wing length is the x variable and Tail Length is the y variable, both measured in cm.\n",
    " \n",
    "1. Plot X vs Y. Do they look related? They do not look related\n",
    "\n",
    "completed with the assistance of chatgpt: https://chat.openai.com/share/b77a532b-2c6b-46ea-9d7d-486fd537d75b"
   ]
  },
  {
   "cell_type": "code",
   "execution_count": 5,
   "id": "f9e81f06",
   "metadata": {},
   "outputs": [
    {
     "data": {
      "image/png": "[encoded data removed]",
      "text/plain": [
       "<Figure size 640x480 with 1 Axes>"
      ]
     },
     "metadata": {},
     "output_type": "display_data"
    }
   ],
   "source": [
    "import numpy as np\n",
    "import matplotlib.pyplot as plt\n",
    "\n",
    "# Sample data\n",
    "x = [10.4, 10.8, 11.1 , 10.2, 10.3, 10.2, 10.7, 10.5, 10.8, 11.2, 10.6, 11.4]  #wing length in cm \n",
    "y = [7.4, 7.6, 7.9, 7.2, 7.4, 7.1, 7.4, 7.2, 7.8, 7.7, 7.8, 8.3] #tail length in cm \n",
    "\n",
    "\n",
    "# Create a scatter plot\n",
    "plt.scatter(x, y)\n",
    "\n",
    "# Add labels and a title\n",
    "plt.xlabel('wing length')\n",
    "plt.ylabel('tail length')\n",
    "plt.title('Simple Line Plot')\n",
    "\n",
    "# Display the plot\n",
    "plt.show()"
   ]
  },
  {
   "cell_type": "code",
   "execution_count": 6,
   "id": "00e93016",
   "metadata": {},
   "outputs": [
    {
     "name": "stdout",
     "output_type": "stream",
     "text": [
      "Pearson's correlation coefficient: 0.8703545613058227\n"
     ]
    }
   ],
   "source": [
    "#manual calculation of sample pearsons correlation coefficient\n",
    "import numpy as np\n",
    "\n",
    "# Sample data\n",
    "x = np.array([10.4, 10.8, 11.1 , 10.2, 10.3, 10.2, 10.7, 10.5, 10.8, 11.2, 10.6, 11.4]) #wing length in cm \n",
    "y = np.array([7.4, 7.6, 7.9, 7.2, 7.4, 7.1, 7.4, 7.2, 7.8, 7.7, 7.8, 8.3]) #tail length in cm\n",
    "\n",
    "# Calculate means\n",
    "mean_x = np.mean(x)\n",
    "mean_y = np.mean(y)\n",
    "\n",
    "# Calculate deviations from means\n",
    "deviations_x = x - mean_x\n",
    "deviations_y = y - mean_y\n",
    "\n",
    "# Calculate the product of deviations\n",
    "product_deviations = deviations_x * deviations_y\n",
    "\n",
    "# Sum of product deviations\n",
    "sum_product_deviations = np.sum(product_deviations)\n",
    "\n",
    "# Calculate the square root of the sum of squared deviations\n",
    "sqrt_sum_squared_deviations_x = np.sqrt(np.sum(deviations_x**2))\n",
    "sqrt_sum_squared_deviations_y = np.sqrt(np.sum(deviations_y**2))\n",
    "\n",
    "# Calculate Pearson's correlation coefficient\n",
    "correlation_coefficient = sum_product_deviations / (sqrt_sum_squared_deviations_x * sqrt_sum_squared_deviations_y)\n",
    "\n",
    "print(\"Pearson's correlation coefficient:\", correlation_coefficient)\n"
   ]
  },
  {
   "cell_type": "code",
   "execution_count": 12,
   "id": "e027188c",
   "metadata": {
    "scrolled": true
   },
   "outputs": [
    {
     "name": "stdout",
     "output_type": "stream",
     "text": [
      "Pearson's correlation coefficient(r): 0.8703545613058227\n"
     ]
    }
   ],
   "source": [
    "import numpy as np\n",
    "\n",
    "# Sample data\n",
    "x = np.array([10.4, 10.8, 11.1 , 10.2, 10.3, 10.2, 10.7, 10.5, 10.8, 11.2, 10.6, 11.4])\n",
    "y = np.array([7.4, 7.6, 7.9, 7.2, 7.4, 7.1, 7.4, 7.2, 7.8, 7.7, 7.8, 8.3])\n",
    "\n",
    "# Calculate Pearson's correlation coefficient using numpy\n",
    "correlation_matrix = np.corrcoef(x, y)\n",
    "correlation_coefficient = correlation_matrix[0, 1]\n",
    "\n",
    "print(\"Pearson's correlation coefficient(r):\", correlation_coefficient)\n"
   ]
  },
  {
   "cell_type": "code",
   "execution_count": 13,
   "id": "2b8f76e7",
   "metadata": {},
   "outputs": [
    {
     "name": "stdout",
     "output_type": "stream",
     "text": [
      "Pearson's correlation coefficient(r): 0.8703545613058227\n"
     ]
    }
   ],
   "source": [
    "import numpy as np\n",
    "\n",
    "# Sample data\n",
    "x = np.array([10.4, 10.8, 11.1 , 10.2, 10.3, 10.2, 10.7, 10.5, 10.8, 11.2, 10.6, 11.4])\n",
    "y = np.array([7.4, 7.6, 7.9, 7.2, 7.4, 7.1, 7.4, 7.2, 7.8, 7.7, 7.8, 8.3])\n",
    "\n",
    "# Calculate Pearson's correlation coefficient using numpy\n",
    "correlation_matrix = np.corrcoef(y, x)\n",
    "correlation_coefficient = correlation_matrix[0, 1]\n",
    "\n",
    "print(\"Pearson's correlation coefficient(r):\", correlation_coefficient)"
   ]
  },
  {
   "cell_type": "code",
   "execution_count": 11,
   "id": "36532377",
   "metadata": {},
   "outputs": [
    {
     "name": "stdout",
     "output_type": "stream",
     "text": [
      "Pearson's correlation coefficient: 0.8703545613058227\n",
      "Standard Error: 0.15571863652567375\n",
      "95% Confidence Interval: (0.5651460337155021, 1.1755630888961432)\n"
     ]
    }
   ],
   "source": [
    "import numpy as np\n",
    "import scipy.stats as stats\n",
    "\n",
    "# Sample data\n",
    "x = np.array([10.4, 10.8, 11.1 , 10.2, 10.3, 10.2, 10.7, 10.5, 10.8, 11.2, 10.6, 11.4])\n",
    "y = np.array([7.4, 7.6, 7.9, 7.2, 7.4, 7.1, 7.4, 7.2, 7.8, 7.7, 7.8, 8.3])\n",
    "\n",
    "# Calculate Pearson's correlation coefficient\n",
    "correlation_coefficient, _ = stats.pearsonr(x, y)\n",
    "\n",
    "# Calculate the standard error of the correlation coefficient\n",
    "N = len(x)\n",
    "standard_error = np.sqrt((1 - correlation_coefficient**2) / (N - 2))\n",
    "\n",
    "# Calculate the 95% confidence interval\n",
    "confidence_interval = (correlation_coefficient - 1.96 * standard_error, correlation_coefficient + 1.96 * standard_error)\n",
    "\n",
    "print(\"Pearson's correlation coefficient:\", correlation_coefficient)\n",
    "print(\"Standard Error:\", standard_error)\n",
    "print(\"95% Confidence Interval:\", confidence_interval)\n"
   ]
  },
  {
   "cell_type": "code",
   "execution_count": 9,
   "id": "4db44dd4",
   "metadata": {},
   "outputs": [
    {
     "name": "stdout",
     "output_type": "stream",
     "text": [
      "Reject the null hypothesis. There is a significant correlation.\n"
     ]
    }
   ],
   "source": [
    "import numpy as np\n",
    "import scipy.stats as stats\n",
    "\n",
    "# Sample data\n",
    "x = np.array([10.4, 10.8, 11.1 , 10.2, 10.3, 10.2, 10.7, 10.5, 10.8, 11.2, 10.6, 11.4])\n",
    "y = np.array([7.4, 7.6, 7.9, 7.2, 7.4, 7.1, 7.4, 7.2, 7.8, 7.7, 7.8, 8.3])\n",
    "\n",
    "# Calculate Pearson's correlation coefficient\n",
    "correlation_coefficient, _ = stats.pearsonr(x, y)\n",
    "\n",
    "# Calculate the test statistic\n",
    "N = len(x)\n",
    "test_statistic = (correlation_coefficient * np.sqrt(N - 2)) / np.sqrt(1 - correlation_coefficient**2)\n",
    "\n",
    "# Calculate the critical values for a two-tailed test at alpha = 0.05\n",
    "alpha = 0.05\n",
    "df = N - 2  # Degrees of freedom\n",
    "critical_value = stats.t.ppf(1 - alpha / 2, df)\n",
    "\n",
    "# Compare the test statistic with the critical value\n",
    "if abs(test_statistic) > critical_value:\n",
    "    print(\"Reject the null hypothesis. There is a significant correlation.\")\n",
    "else:\n",
    "    print(\"Fail to reject the null hypothesis. There is no significant correlation.\")\n"
   ]
  },
  {
   "cell_type": "code",
   "execution_count": 20,
   "id": "2049e99d",
   "metadata": {},
   "outputs": [
    {
     "name": "stdout",
     "output_type": "stream",
     "text": [
      "Fail to reject the null hypothesis. The correlation is not significantly different from 0.75.\n"
     ]
    }
   ],
   "source": [
    "import numpy as np\n",
    "import scipy.stats as stats\n",
    "\n",
    "# Sample data\n",
    "x = np.array([10.4, 10.8, 11.1 , 10.2, 10.3, 10.2, 10.7, 10.5, 10.8, 11.2, 10.6, 11.4])\n",
    "y = np.array([7.4, 7.6, 7.9, 7.2, 7.4, 7.1, 7.4, 7.2, 7.8, 7.7, 7.8, 8.3])\n",
    "\n",
    "# Calculate Pearson's correlation coefficient\n",
    "correlation_coefficient, _ = stats.pearsonr(x, y)\n",
    "\n",
    "# Set the correlation coefficient value from Yale's study\n",
    "yale_correlation_coefficient = 0.75\n",
    "\n",
    "# Calculate the test statistic\n",
    "N = len(x)\n",
    "test_statistic = (correlation_coefficient - yale_correlation_coefficient) / np.sqrt((1 - correlation_coefficient**2) / (N - 2))\n",
    "\n",
    "# Calculate the critical values for a two-tailed test at alpha = 0.05\n",
    "alpha = 0.05\n",
    "df = N - 2  # Degrees of freedom\n",
    "critical_value = stats.t.ppf(1 - alpha / 2, df)\n",
    "\n",
    "# Compare the test statistic with the critical value\n",
    "if abs(test_statistic) > critical_value:\n",
    "    print(\"Reject the null hypothesis. The correlation is significantly different from 0.75.\")\n",
    "else:\n",
    "    print(\"Fail to reject the null hypothesis. The correlation is not significantly different from 0.75.\")"
   ]
  },
  {
   "cell_type": "code",
   "execution_count": 18,
   "id": "ff9e0f49",
   "metadata": {},
   "outputs": [
    {
     "name": "stdout",
     "output_type": "stream",
     "text": [
      "Required Sample Size: 50\n"
     ]
    }
   ],
   "source": [
    "import numpy as np\n",
    "from statsmodels.stats.power import TTestIndPower\n",
    "\n",
    "# Set the parameters\n",
    "effect_size = 0.5  # Desired effect size (correlation coefficient)\n",
    "alpha = 0.05       # Significance level\n",
    "power = 0.80       # Desired power level\n",
    "\n",
    "# Create a function to calculate the required sample size\n",
    "def calculate_sample_size(effect_size, alpha, power):\n",
    "    power_analysis = TTestIndPower()\n",
    "    required_sample_size = power_analysis.solve_power(\n",
    "        effect_size=effect_size,\n",
    "        alpha=alpha,\n",
    "        power=power,\n",
    "        alternative='larger'  # For a one-tailed test, assuming r >= 0.5\n",
    "    )\n",
    "    return required_sample_size\n",
    "\n",
    "# Calculate the required sample size\n",
    "required_sample_size = calculate_sample_size(effect_size, alpha, power)\n",
    "\n",
    "print(f\"Required Sample Size: {required_sample_size:.0f}\")\n",
    "\n"
   ]
  },
  {
   "cell_type": "code",
   "execution_count": null,
   "id": "31a8faa7",
   "metadata": {},
   "outputs": [],
   "source": []
  }
 ],
 "metadata": {
  "kernelspec": {
   "display_name": "Python 3 (ipykernel)",
   "language": "python",
   "name": "python3"
  },
  "language_info": {
   "codemirror_mode": {
    "name": "ipython",
    "version": 3
   },
   "file_extension": ".py",
   "mimetype": "text/x-python",
   "name": "python",
   "nbconvert_exporter": "python",
   "pygments_lexer": "ipython3",
   "version": "3.10.9"
  }
 },
 "nbformat": 4,
 "nbformat_minor": 5
}
