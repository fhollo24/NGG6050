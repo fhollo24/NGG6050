{
 "cells": [
  {
   "cell_type": "markdown",
   "id": "dc397491",
   "metadata": {},
   "source": [
    "Exercise 1: If someone gets a positive test, is it \"statistically significant\" at the p<0.05 level? Why or why not?\n",
    "\n",
    "It is not statistically significant when the p-value = 0.05 since its an arbitrary threshold. If the results were to be less than 0.05 then the result would be significant. "
   ]
  },
  {
   "cell_type": "markdown",
   "id": "5208dfb3",
   "metadata": {},
   "source": [
    "Exercise 2: this code was generated with the help of ChatGPT.\n",
    "https://chat.openai.com/share/019a1103-0f1c-42dd-907c-d5b8170b3c54\n",
    "chatgpt assumed the true and false positive rates\n"
   ]
  },
  {
   "cell_type": "code",
   "execution_count": 1,
   "id": "a6241f19",
   "metadata": {},
   "outputs": [
    {
     "name": "stdout",
     "output_type": "stream",
     "text": [
      "HIV Prevalence: 0.00, Probability Infected Given Positive: 0.00%\n",
      "HIV Prevalence: 0.10, Probability Infected Given Positive: 73.29%\n",
      "HIV Prevalence: 0.20, Probability Infected Given Positive: 82.70%\n",
      "HIV Prevalence: 0.30, Probability Infected Given Positive: 86.35%\n",
      "HIV Prevalence: 0.40, Probability Infected Given Positive: 93.30%\n",
      "HIV Prevalence: 0.50, Probability Infected Given Positive: 94.25%\n",
      "HIV Prevalence: 0.60, Probability Infected Given Positive: 97.80%\n",
      "HIV Prevalence: 0.70, Probability Infected Given Positive: 97.42%\n",
      "HIV Prevalence: 0.80, Probability Infected Given Positive: 98.71%\n",
      "HIV Prevalence: 0.90, Probability Infected Given Positive: 99.31%\n",
      "HIV Prevalence: 1.00, Probability Infected Given Positive: 100.00%\n"
     ]
    }
   ],
   "source": [
    "import random\n",
    "\n",
    "\n",
    "# Initialize a list to store the results\n",
    "results = []\n",
    "\n",
    "# Loop through different prevalence values from 0 to 1 with steps of 0.1\n",
    "for prevalence in [i * 0.1 for i in range(11)]:\n",
    "    # Define the parameters\n",
    "    true_positive_rate = 0.95  # Probability of a true positive\n",
    "    false_positive_rate = 0.05  # Probability of a false positive\n",
    "    \n",
    "    # Initialize counters\n",
    "    positive_tests = 0\n",
    "    infected_and_positive = 0\n",
    "\n",
    "    # Simulate 1000 tests\n",
    "    num_tests = 1000\n",
    "    for _ in range(num_tests):\n",
    "        # Simulate the true infection status\n",
    "        is_infected = random.random() < prevalence\n",
    "    \n",
    "        # Simulate the test result\n",
    "        if is_infected:\n",
    "            # A true positive result\n",
    "            if random.random() < true_positive_rate:\n",
    "                positive_tests += 1\n",
    "                infected_and_positive += 1\n",
    "            else:\n",
    "                # False negative result\n",
    "                pass\n",
    "        else:\n",
    "            # A false positive result\n",
    "            if random.random() < false_positive_rate:\n",
    "                positive_tests += 1\n",
    "\n",
    "    # Calculate the probability using Bayes' theorem\n",
    "    probability_infected_given_positive = infected_and_positive / positive_tests\n",
    "    \n",
    "    #store the results in the list\n",
    "    results.append((prevalence, probability_infected_given_positive))\n",
    "\n",
    "# Print the result\n",
    "for prevalence, probability in results:\n",
    "    print(f\"HIV Prevalence: {prevalence:.2f}, Probability Infected Given Positive: {probability:.2%}\")"
   ]
  },
  {
   "cell_type": "code",
   "execution_count": null,
   "id": "206654f5",
   "metadata": {},
   "outputs": [],
   "source": []
  }
 ],
 "metadata": {
  "kernelspec": {
   "display_name": "Python 3 (ipykernel)",
   "language": "python",
   "name": "python3"
  },
  "language_info": {
   "codemirror_mode": {
    "name": "ipython",
    "version": 3
   },
   "file_extension": ".py",
   "mimetype": "text/x-python",
   "name": "python",
   "nbconvert_exporter": "python",
   "pygments_lexer": "ipython3",
   "version": "3.10.9"
  }
 },
 "nbformat": 4,
 "nbformat_minor": 5
}
