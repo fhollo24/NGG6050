{
 "cells": [
  {
   "cell_type": "code",
   "execution_count": 1,
   "id": "c494fa35",
   "metadata": {},
   "outputs": [
    {
     "data": {
      "text/plain": [
       "Text(0, 0.5, 'P error')"
      ]
     },
     "execution_count": 1,
     "metadata": {},
     "output_type": "execute_result"
    },
    {
     "data": {
      "image/png": "[encoded data removed]",
      "text/plain": [
       "<Figure size 640x480 with 1 Axes>"
      ]
     },
     "metadata": {},
     "output_type": "display_data"
    }
   ],
   "source": [
    "\n",
    "import matplotlib.pyplot as plt\n",
    "import numpy as np\n",
    "\n",
    "alpha = 0.05\n",
    "N = np.arange(0,100)\n",
    "plt.plot(N, 1-(1-alpha)**N)\n",
    "plt.xlabel('N')\n",
    "plt.ylabel('P error')"
   ]
  },
  {
   "cell_type": "markdown",
   "id": "cd913b03",
   "metadata": {},
   "source": [
    "First, simulate multiple (say, 1000) t-tests comparing two samples with equal means and standard deviations, and save the p-values. Obviously, at p<0.05 we expect that ~5% of the simulations to yield a \"statistically significant\" result (of rejecting the NULL hypothesis that the samples come from distributions with equal means).\n",
    "\n",
    "Second, once you have the simulated p-values, apply both methods to address the multiple comparisons problem.\n",
    "\n",
    "Third, set the sample 1 and sample 2 means to be 1 and 2 respectively, and re-run the exercise. What do you notice? What if you make the difference between means even greater?\n",
    " - when the differences between means are greater, then you have a higher chances of rejecting the null hypothesis and find statistically signifcant results in this test."
   ]
  },
  {
   "cell_type": "code",
   "execution_count": 2,
   "id": "8b7e550e",
   "metadata": {},
   "outputs": [
    {
     "name": "stdout",
     "output_type": "stream",
     "text": [
      "Number of significant results (p < 0.05): 53\n"
     ]
    }
   ],
   "source": [
    "import numpy as np\n",
    "from scipy import stats\n",
    "\n",
    "np.random.seed(0)  # Set seed for reproducibility\n",
    "num_tests = 1000\n",
    "alpha = 0.05\n",
    "p_values = []\n",
    "\n",
    "for _ in range(num_tests):\n",
    "    sample1 = np.random.normal(0, 1, 100)  # Sample 1 with mean 0, std deviation 1\n",
    "    sample2 = np.random.normal(0, 1, 100)  # Sample 2 with mean 0, std deviation 1\n",
    "    _, p_value = stats.ttest_ind(sample1, sample2)\n",
    "    p_values.append(p_value)\n",
    "\n",
    "significant_results = sum(np.array(p_values) < alpha)\n",
    "print(f\"Number of significant results (p < {alpha}): {significant_results}\")\n"
   ]
  },
  {
   "cell_type": "code",
   "execution_count": 12,
   "id": "13ef19ce",
   "metadata": {},
   "outputs": [
    {
     "name": "stdout",
     "output_type": "stream",
     "text": [
      "Number of significant results (p < 0.05): 53\n",
      "Bonferroni correction: 5e-05\n",
      "Number of significant results (Bonferroni corrected p < 5e-05): 0\n",
      "Number of significant results (Benjamini-Hochberg corrected p < 0.05): 0\n"
     ]
    }
   ],
   "source": [
    "import numpy as np\n",
    "from scipy import stats\n",
    "import statsmodels.stats.multitest as smm\n",
    "\n",
    "np.random.seed(0)  # Set seed for reproducibility\n",
    "num_tests = 1000\n",
    "alpha = 0.05\n",
    "p_values = []\n",
    "\n",
    "for _ in range(num_tests):\n",
    "    sample1 = np.random.normal(0, 1, 100)  # Sample 1 with mean 0, std deviation 1\n",
    "    sample2 = np.random.normal(0, 1, 100)  # Sample 2 with mean 0, std deviation 1\n",
    "    _, p_value = stats.ttest_ind(sample1, sample2)\n",
    "    p_values.append(p_value)\n",
    "\n",
    "significant_results = sum(np.array(p_values) < alpha)\n",
    "\n",
    "# Apply Bonferroni correction\n",
    "bonferroni_alpha = alpha / num_tests\n",
    "significant_results_bonferroni = sum(np.array(p_values) < bonferroni_alpha)\n",
    "\n",
    "# Apply Benjamini-Hochberg correction\n",
    "reject, corrected_p_values_bh, _, _ = smm.multipletests(p_values, alpha=alpha, method='fdr_bh')\n",
    "significant_results_bh = sum(reject)\n",
    "\n",
    "print(f\"Number of significant results (p < {alpha}): {significant_results}\")\n",
    "print(f\"Bonferroni correction: {bonferroni_alpha}\")\n",
    "print(f\"Number of significant results (Bonferroni corrected p < {bonferroni_alpha}): {significant_results_bonferroni}\")\n",
    "print(f\"Number of significant results (Benjamini-Hochberg corrected p < {alpha}): {significant_results_bh}\")\n"
   ]
  },
  {
   "cell_type": "code",
   "execution_count": 13,
   "id": "0ea19bc5",
   "metadata": {},
   "outputs": [
    {
     "name": "stdout",
     "output_type": "stream",
     "text": [
      "Number of significant results (p < 0.05): 1000\n",
      "Bonferroni correction: 5e-05\n",
      "Number of significant results (Bonferroni corrected p < 5e-05): 998\n",
      "Number of significant results (Benjamini-Hochberg corrected p < 0.05): 1000\n"
     ]
    }
   ],
   "source": [
    "import numpy as np\n",
    "from scipy import stats\n",
    "import statsmodels.stats.multitest as smm\n",
    "\n",
    "np.random.seed(0)  # Set seed for reproducibility\n",
    "num_tests = 1000\n",
    "alpha = 0.05\n",
    "p_values = []\n",
    "\n",
    "for _ in range(num_tests):\n",
    "    sample1 = np.random.normal(1, 1, 100)  # Sample 1 with mean 0, std deviation 1\n",
    "    sample2 = np.random.normal(2, 1, 100)  # Sample 2 with mean 0, std deviation 1\n",
    "    _, p_value = stats.ttest_ind(sample1, sample2)\n",
    "    p_values.append(p_value)\n",
    "\n",
    "significant_results = sum(np.array(p_values) < alpha)\n",
    "\n",
    "# Apply Bonferroni correction\n",
    "bonferroni_alpha = alpha / num_tests\n",
    "significant_results_bonferroni = sum(np.array(p_values) < bonferroni_alpha)\n",
    "\n",
    "# Apply Benjamini-Hochberg correction\n",
    "reject, corrected_p_values_bh, _, _ = smm.multipletests(p_values, alpha=alpha, method='fdr_bh')\n",
    "significant_results_bh = sum(reject)\n",
    "\n",
    "print(f\"Number of significant results (p < {alpha}): {significant_results}\")\n",
    "print(f\"Bonferroni correction: {bonferroni_alpha}\")\n",
    "print(f\"Number of significant results (Bonferroni corrected p < {bonferroni_alpha}): {significant_results_bonferroni}\")\n",
    "print(f\"Number of significant results (Benjamini-Hochberg corrected p < {alpha}): {significant_results_bh}\")"
   ]
  },
  {
   "cell_type": "code",
   "execution_count": null,
   "id": "9e34e84b",
   "metadata": {},
   "outputs": [],
   "source": []
  }
 ],
 "metadata": {
  "kernelspec": {
   "display_name": "Python 3 (ipykernel)",
   "language": "python",
   "name": "python3"
  },
  "language_info": {
   "codemirror_mode": {
    "name": "ipython",
    "version": 3
   },
   "file_extension": ".py",
   "mimetype": "text/x-python",
   "name": "python",
   "nbconvert_exporter": "python",
   "pygments_lexer": "ipython3",
   "version": "3.10.9"
  }
 },
 "nbformat": 4,
 "nbformat_minor": 5
}
